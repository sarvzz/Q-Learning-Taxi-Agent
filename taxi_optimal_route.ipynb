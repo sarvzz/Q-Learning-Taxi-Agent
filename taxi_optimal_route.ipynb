{
 "cells": [
  {
   "cell_type": "code",
   "execution_count": null,
   "id": "584b36b3-29b4-400b-91cf-b23e46aba4a6",
   "metadata": {},
   "outputs": [],
   "source": [
    "# install required libraries\n",
    "\n",
    "!pip install gymnasium[toy_text] imageio\n",
    "!pip install python3.6\n",
    "import numpy as np\n",
    "import gymnasium as gym\n",
    "import imageio\n",
    "from IPython.display import Image\n",
    "from gymnasium.utils import seeding\n",
    "from typing import Any, Dict\n",
    "\n",
    "# Initialize the Taxi-v3 environment\n",
    "env = gym.make(\"Taxi-v3\", render_mode='rgb_array')\n",
    "\n",
    "# Seed the environment for reproducibility\n",
    "env.np_random, _ = seeding.np_random(42)\n",
    "env.action_space.seed(42)\n",
    "np.random.seed(42)\n",
    "\n",
    "# Maximum number of actions per training episode\n",
    "max_actions = 100 "
   ]
  },
  {
   "cell_type": "markdown",
   "id": "a5e4e387-bf12-4267-b3cf-e044a4de675f",
   "metadata": {},
   "source": [
    "## 1. Training the Agent with Q-Learning"
   ]
  },
  {
   "cell_type": "code",
   "execution_count": null,
   "id": "afce632f-ccd4-4fd7-9e82-07d732f38ee4",
   "metadata": {},
   "outputs": [],
   "source": [
    "# Parameters for training\n",
    "epsilon = 1.0\n",
    "min_epsilon = 0.01\n",
    "epsilon_decay = 0.001\n",
    "alpha = 0.1  # Learning rate\n",
    "gamma = 1 # Discount factor"
   ]
  },
  {
   "cell_type": "markdown",
   "id": "26b2d07c-651e-44cb-8a34-ded8c07298d4",
   "metadata": {},
   "source": [
    "Train the agent for 2,000 episodes with Q-learning, limiting to 100 actions per episode and recording the rewards per episode in episode_returns"
   ]
  },
  {
   "cell_type": "code",
   "execution_count": null,
   "id": "72794590-4b6b-4585-8457-a30738b2585c",
   "metadata": {},
   "outputs": [],
   "source": [
    "# parameters for training\n",
    "epsilon = 1.0\n",
    "min_epsilon = 0.01\n",
    "epsilon_decay = 0.001\n",
    "alpha = 0.1 # learning rate\n",
    "gamma = 1 # Discount rate"
   ]
  },
  {
   "cell_type": "code",
   "execution_count": null,
   "id": "1a44958a-84ae-4a09-ac94-cdaf0769b37e",
   "metadata": {},
   "outputs": [],
   "source": [
    "# Determine the environment's number of states and actions\n",
    "num_states: Any = env.observation_space.n\n",
    "num_actions: Any = env.action_space.n\n",
    "\n",
    "# Initialize the Q-table with zeros\n",
    "q_table: Any = np.zeros((num_states, num_actions))"
   ]
  },
  {
   "cell_type": "markdown",
   "id": "92a7ce6e-fab5-43b2-8dbb-9584963a957b",
   "metadata": {},
   "source": [
    "## 2. Define Epislon-greedy strategy function"
   ]
  },
  {
   "cell_type": "code",
   "execution_count": null,
   "id": "adb9dac7-26d9-41a1-b655-b567a829548f",
   "metadata": {},
   "outputs": [],
   "source": [
    "def epsilon_greedy(state) -> Any: \n",
    "    if np.random.rand() < epsilon:\n",
    "        # Exploration: Trying out new actions to discover better rewards\n",
    "        return env.action_space.sample() \n",
    "    else:\n",
    "        # Exploitation: Using the current knowledge (q_table) to select the action to maximizes reward.\n",
    "        return np.argmax(q_table[state]) "
   ]
  },
  {
   "cell_type": "markdown",
   "id": "5ec86148-a66a-49c8-96ef-477ce14c5c8e",
   "metadata": {},
   "source": [
    "## 3. Q-Learning Update Function"
   ]
  },
  {
   "cell_type": "markdown",
   "id": "3ceb9898-b080-4877-af8b-799f159fce89",
   "metadata": {},
   "source": [
    "### Key Concepts in the Q-Learning Update:\n",
    "\n",
    "- **Learning Rate (alpha):** Determines how much new information should overwrite the old value. A higher alpha means the agent will adjust more rapidly based on the most recent experiences. \n",
    "- **Discount Factor (gamma):** Controls the importance of future rewards. A gamma closer to 1 prioritizes future rewards, while a gamma closer to 0 focuses more on immediate rewards.\n",
    "- **Max Future Q-value (next_max):** Helps the agent make long-term decisions by considering future potential rewards."
   ]
  },
  {
   "cell_type": "code",
   "execution_count": null,
   "id": "7f23c418-9b98-4109-8aab-1c25168e53a2",
   "metadata": {},
   "outputs": [],
   "source": [
    "def q_learning_update(state, action, reward, next_state):\n",
    "    old_value = q_table[state, action]\n",
    "    next_max = max(q_table[next_state]) \n",
    "    q_table[state, action] = (1 - alpha) * old_value + alpha * (reward + gamma * next_max)\n",
    "    \n",
    "# List to store the total reward per episode\n",
    "episode_returns: list = []"
   ]
  },
  {
   "cell_type": "code",
   "execution_count": null,
   "id": "091e4df8-36c7-435b-a5e0-3ff94819bca7",
   "metadata": {},
   "outputs": [],
   "source": [
    "for episode in range(2000):\n",
    "    state , info = env.reset() # unpack state and info from reset\n",
    "    terminated = False # track whether the episode is finished \n",
    "    total_reward = 0 # counter\n",
    "    \n",
    "    for i in range(max_actions):\n",
    "        action = epsilon_greedy(state) \n",
    "        \n",
    "        # Unpack the result of env.step()\n",
    "        next_state, reward, terminate, truncated, info = env.step(action)\n",
    "        \n",
    "        # update q-table based on the transition\n",
    "        q_learning_update(state, action, reward, next_state)\n",
    "        \n",
    "        # move to the next step\n",
    "        state = next_state\n",
    "        total_reward += reward\n",
    "        if terminated:\n",
    "            break\n",
    "    \n",
    "    # allows to track the performance of the agent over time\n",
    "    episode_returns.append(total_reward) \n",
    "    # Decay epsilon\n",
    "    epsilon: float = max(min_epsilon, epsilon * epsilon_decay) # allows the agent gradually transition to exploitation\n",
    "    \n",
    "# Deriving the policy\n",
    "policy: Dict[int, Any] = {state: np.argmax(q_table[state]) for state in range(num_states)} # action with the highest Q-value is selected and it's mapped in 'policy' dictionary."
   ]
  },
  {
   "cell_type": "code",
   "execution_count": null,
   "id": "3acf15ed-3d21-4af5-af3a-d950320bfded",
   "metadata": {},
   "outputs": [],
   "source": [
    "# List to store frames\n",
    "frames: list = []\n",
    "state, info = env.reset(seed=42)\n",
    "frames.append(env.render())\n",
    "episode_total_reward = 0\n",
    "\n",
    "for i in range(16):\n",
    "    action = policy[state]\n",
    "    \n",
    "    # moving the environment forward by one step, based on the selected action\n",
    "    state, reward, terminated, truncated, info = env.step(action)\n",
    "    episode_total_reward += reward\n",
    "    frames.append(env.render())\n",
    "    if terminated: \n",
    "        break"
   ]
  },
  {
   "cell_type": "markdown",
   "id": "33bce8d3-3fbb-4f18-8acc-af2f23bcbe56",
   "metadata": {},
   "source": [
    "## 4. Display agent's behavior"
   ]
  },
  {
   "cell_type": "code",
   "execution_count": null,
   "id": "d806ec81-0bba-4875-9753-c365ffaa2e13",
   "metadata": {},
   "outputs": [],
   "source": [
    "# Save frames as a GIF\n",
    "imageio.mimsave('taxi_agent.gif', frames, fps=5)\n",
    "\n",
    "# Display GIF\n",
    "gif_path = \"taxi_agent.gif\" \n",
    "Image(gif_path) "
   ]
  }
 ],
 "metadata": {
  "kernelspec": {
   "display_name": "Python 3 (ipykernel)",
   "language": "python",
   "name": "python3"
  },
  "language_info": {
   "codemirror_mode": {
    "name": "ipython",
    "version": 3
   },
   "file_extension": ".py",
   "mimetype": "text/x-python",
   "name": "python",
   "nbconvert_exporter": "python",
   "pygments_lexer": "ipython3",
   "version": "3.11.4"
  }
 },
 "nbformat": 4,
 "nbformat_minor": 5
}
